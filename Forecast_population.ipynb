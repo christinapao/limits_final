{
 "cells": [
  {
   "cell_type": "code",
   "execution_count": 32,
   "id": "f9580125-276d-42bb-84e9-2a0442a48a9f",
   "metadata": {},
   "outputs": [],
   "source": [
    "import pandas as pd\n",
    "import numpy as np\n",
    "import sklearn as sk\n",
    "import matplotlib.pyplot as plt"
   ]
  },
  {
   "cell_type": "code",
   "execution_count": 33,
   "id": "35494e03-f1dd-4724-9a53-f4883b5f1afe",
   "metadata": {},
   "outputs": [],
   "source": [
    "df = pd.read_csv('idb5yr.txt', delimiter=\"|\")\n",
    "df2 = pd.read_csv(\"limits_final/joined_data/ru_joined.csv\")"
   ]
  },
  {
   "cell_type": "code",
   "execution_count": 34,
   "id": "b4e9b874-4d4c-4c01-a3c6-16fed1dfbe18",
   "metadata": {},
   "outputs": [],
   "source": [
    "df = df.dropna()"
   ]
  },
  {
   "cell_type": "code",
   "execution_count": 37,
   "id": "bd00e9b8-de12-43c8-b5db-b779b3553825",
   "metadata": {},
   "outputs": [
    {
     "name": "stdout",
     "output_type": "stream",
     "text": [
      "(26060, 115)\n",
      "(64, 69)\n"
     ]
    }
   ],
   "source": [
    "print(df.shape)\n",
    "print(df2.shape)"
   ]
  },
  {
   "cell_type": "code",
   "execution_count": 15,
   "id": "ad865782-14fc-4b4d-85fa-6676aeea9f92",
   "metadata": {},
   "outputs": [],
   "source": [
    "train_df = df[df[\"#YR\"] <= 2023]"
   ]
  },
  {
   "cell_type": "code",
   "execution_count": 28,
   "id": "838f8bf8-cc40-4265-814f-d8af3d27a45a",
   "metadata": {},
   "outputs": [],
   "source": [
    "things_to_add = [\"POP\", \"BIRTH\", \"DEATH\"]\n",
    "\n",
    "def add_previous_years(df):\n",
    "    target_map = df['POP'].to_dict()\n",
    "    df['lag1'] = (df.index - 1).map(target_map)\n",
    "    df['lag2'] = (df.index - 2).map(target_map)\n",
    "    df['lag3'] = (df.index - 3).map(target_map)\n",
    "    df[\"lag1\"].fillna(0, inplace=True)\n",
    "    df[\"lag2\"].fillna(0, inplace=True)\n",
    "    df[\"lag3\"].fillna(0, inplace=True)\n",
    "    return df\n",
    "\n",
    "\n",
    "def add_next_years(df):\n",
    "    target_map = df['POP'].to_dict()\n",
    "    df['lag1'] = (df.index + 1).map(target_map)\n",
    "    df['lag2'] = (df.index + 2).map(target_map)\n",
    "    df['lag3'] = (df.index + 3).map(target_map)\n",
    "    df[\"goal\"] = (df.index - 1).map(target_map)\n",
    "    df[\"lag1\"].fillna(0, inplace=True)\n",
    "    df[\"lag2\"].fillna(0, inplace=True)\n",
    "    df[\"lag3\"].fillna(0, inplace=True)\n",
    "    df[\"goal\"].fillna(0, inplace=True)\n",
    "    return df\n"
   ]
  },
  {
   "cell_type": "code",
   "execution_count": 17,
   "id": "d46cce85-22d3-4aa4-bbe3-f00e4d49f772",
   "metadata": {},
   "outputs": [],
   "source": [
    "grouped = df.groupby('GEO_ID', as_index=False)\n",
    "fixed = grouped.apply(add_previous_years)"
   ]
  },
  {
   "cell_type": "code",
   "execution_count": 18,
   "id": "60aeae49-2d32-423a-bfd3-2540dd0ea398",
   "metadata": {},
   "outputs": [],
   "source": [
    "new_frame = fixed.reset_index()\n",
    "new_frame = new_frame.drop([\"level_0\", \"level_1\"], axis=1)"
   ]
  },
  {
   "cell_type": "code",
   "execution_count": 19,
   "id": "1974df45-66dc-4fca-8236-cb3bc30878e3",
   "metadata": {},
   "outputs": [
    {
     "name": "stdout",
     "output_type": "stream",
     "text": [
      "        #YR       GEO_ID  AREA_KM2  ASFR15_19  ASFR20_24  ASFR25_29  \\\n",
      "0      1990  W140000WOAD     468.0        6.1       37.0       88.8   \n",
      "1      1991  W140000WOAD     468.0        6.5       37.3       90.6   \n",
      "2      1992  W140000WOAD     468.0        6.7       37.5       92.3   \n",
      "3      1993  W140000WOAD     468.0        6.4       35.0       87.0   \n",
      "4      1994  W140000WOAD     468.0        6.2       33.3       83.0   \n",
      "...     ...          ...       ...        ...        ...        ...   \n",
      "26055  2096  W140000WOZW  386847.0       17.8       64.2      102.9   \n",
      "26056  2097  W140000WOZW  386847.0       17.1       63.1      102.2   \n",
      "26057  2098  W140000WOZW  386847.0       16.4       62.1      101.5   \n",
      "26058  2099  W140000WOZW  386847.0       15.7       61.0      100.7   \n",
      "26059  2100  W140000WOZW  386847.0       15.0       60.0      100.0   \n",
      "\n",
      "       ASFR30_34  ASFR35_39  ASFR40_44  ASFR45_49  ...  MEDAGE  MEDAGE_M  \\\n",
      "0           85.6       35.3        8.5        0.7  ...    32.8      33.0   \n",
      "1           87.2       35.8        8.4        0.7  ...    32.3      32.6   \n",
      "2           88.7       36.1        8.6        0.7  ...    32.1      32.4   \n",
      "3           83.8       34.0        8.2        0.7  ...    32.0      32.4   \n",
      "4           79.9       32.6        7.9        0.6  ...    32.5      32.8   \n",
      "...          ...        ...        ...        ...  ...     ...       ...   \n",
      "26055      101.4       51.5       12.6        3.1  ...    41.5      40.6   \n",
      "26056      101.0       51.1       12.5        3.1  ...    41.8      41.0   \n",
      "26057      100.7       50.8       12.3        3.0  ...    42.2      41.3   \n",
      "26058      100.3       50.4       12.2        3.0  ...    42.5      41.6   \n",
      "26059      100.0       50.0       12.0        3.0  ...    42.8      41.9   \n",
      "\n",
      "       MEDAGE_F  SEXRATIO  DEPND  DEPND0_14  DEPND65_        lag1        lag2  \\\n",
      "0          32.6     1.120   38.0       24.6      13.4         0.0         0.0   \n",
      "1          32.0     1.116   38.5       25.3      13.3     52747.0         0.0   \n",
      "2          31.7     1.111   38.5       25.3      13.2     56475.0     52747.0   \n",
      "3          31.6     1.108   38.1       24.9      13.2     59722.0     56475.0   \n",
      "4          32.1     1.106   37.5       24.1      13.4     62559.0     59722.0   \n",
      "...         ...       ...    ...        ...       ...         ...         ...   \n",
      "26055      42.4     0.963   64.4       28.2      36.2  35044176.0  34988399.0   \n",
      "26056      42.7     0.962   64.7       27.9      36.8  35091067.0  35044176.0   \n",
      "26057      43.0     0.962   65.0       27.6      37.4  35128910.0  35091067.0   \n",
      "26058      43.3     0.962   65.3       27.3      38.0  35157552.0  35128910.0   \n",
      "26059      43.7     0.962   65.7       27.0      38.7  35176856.0  35157552.0   \n",
      "\n",
      "             lag3  \n",
      "0             0.0  \n",
      "1             0.0  \n",
      "2             0.0  \n",
      "3         52747.0  \n",
      "4         56475.0  \n",
      "...           ...  \n",
      "26055  34923860.0  \n",
      "26056  34988399.0  \n",
      "26057  35044176.0  \n",
      "26058  35091067.0  \n",
      "26059  35128910.0  \n",
      "\n",
      "[26060 rows x 118 columns]\n"
     ]
    }
   ],
   "source": [
    "print(new_frame)"
   ]
  },
  {
   "cell_type": "code",
   "execution_count": 20,
   "id": "809c068a-9b52-4792-b35e-3d726df33740",
   "metadata": {},
   "outputs": [],
   "source": [
    "no_country_df = new_frame.drop([\"GEO_ID\"], axis=1)"
   ]
  },
  {
   "cell_type": "code",
   "execution_count": 21,
   "id": "2e589c2d-fd75-4032-8bfe-1a5e21921f1a",
   "metadata": {},
   "outputs": [],
   "source": [
    "valid_df = no_country_df[no_country_df[\"#YR\"] <= 2023]"
   ]
  },
  {
   "cell_type": "code",
   "execution_count": 22,
   "id": "3edad65b-bbb9-4ed7-8f1f-a07e826c2a05",
   "metadata": {},
   "outputs": [
    {
     "name": "stdout",
     "output_type": "stream",
     "text": [
      "    #YR  AREA_KM2  ASFR15_19  ASFR20_24  ASFR25_29  ASFR30_34  ASFR35_39  \\\n",
      "0  1990     468.0        6.1       37.0       88.8       85.6       35.3   \n",
      "1  1991     468.0        6.5       37.3       90.6       87.2       35.8   \n",
      "2  1992     468.0        6.7       37.5       92.3       88.7       36.1   \n",
      "3  1993     468.0        6.4       35.0       87.0       83.8       34.0   \n",
      "4  1994     468.0        6.2       33.3       83.0       79.9       32.6   \n",
      "\n",
      "   ASFR40_44  ASFR45_49    CBR  ...  MEDAGE  MEDAGE_M  MEDAGE_F  SEXRATIO  \\\n",
      "0        8.5        0.7  11.91  ...    32.8      33.0      32.6     1.120   \n",
      "1        8.4        0.7  12.01  ...    32.3      32.6      32.0     1.116   \n",
      "2        8.6        0.7  12.21  ...    32.1      32.4      31.7     1.111   \n",
      "3        8.2        0.7  11.56  ...    32.0      32.4      31.6     1.108   \n",
      "4        7.9        0.6  11.03  ...    32.5      32.8      32.1     1.106   \n",
      "\n",
      "   DEPND  DEPND0_14  DEPND65_     lag1     lag2     lag3  \n",
      "0   38.0       24.6      13.4      0.0      0.0      0.0  \n",
      "1   38.5       25.3      13.3  52747.0      0.0      0.0  \n",
      "2   38.5       25.3      13.2  56475.0  52747.0      0.0  \n",
      "3   38.1       24.9      13.2  59722.0  56475.0  52747.0  \n",
      "4   37.5       24.1      13.4  62559.0  59722.0  56475.0  \n",
      "\n",
      "[5 rows x 117 columns]\n"
     ]
    }
   ],
   "source": [
    "print(valid_df.head())"
   ]
  },
  {
   "cell_type": "code",
   "execution_count": 23,
   "id": "bf7f3eac-1f68-4d47-bdfd-066374c4a433",
   "metadata": {},
   "outputs": [],
   "source": [
    "from sklearn.model_selection import TimeSeriesSplit\n",
    "tss = TimeSeriesSplit(n_splits=3)\n",
    "from sklearn.tree import DecisionTreeRegressor\n",
    "from sklearn.metrics import mean_squared_error"
   ]
  },
  {
   "cell_type": "code",
   "execution_count": 24,
   "id": "e20502c8-71bf-4dfc-858b-d39bcf527f0b",
   "metadata": {},
   "outputs": [
    {
     "name": "stdout",
     "output_type": "stream",
     "text": [
      "Score across folds 6908045.8490\n",
      "Fold scores:[17852901.68895095, 1035413.365618866, 1835822.492578255]\n"
     ]
    }
   ],
   "source": [
    "fold = 0\n",
    "preds = []\n",
    "scores = []\n",
    "regs = []\n",
    "for train_idx, val_idx in tss.split(valid_df):\n",
    "    train = valid_df.iloc[train_idx]\n",
    "    test = valid_df.iloc[val_idx]\n",
    "\n",
    "\n",
    "    TARGET = 'POP'\n",
    "\n",
    "    X_train = train.drop([TARGET], axis=1)\n",
    "    y_train = train[TARGET]\n",
    "\n",
    "    X_test = test.drop([TARGET], axis=1)\n",
    "    y_test = test[TARGET]\n",
    "    reg = DecisionTreeRegressor(random_state=0)\n",
    "    reg.fit(X_train, y_train)\n",
    "    regs.append(reg)\n",
    "    y_pred = reg.predict(X_test)\n",
    "    preds.append(y_pred)\n",
    "    score = np.sqrt(mean_squared_error(y_test, y_pred))\n",
    "    scores.append(score)\n",
    "\n",
    "\n",
    "#printing scores for each fold\n",
    "\n",
    "print(f'Score across folds {np.mean(scores):0.4f}')\n",
    "print(f'Fold scores:{scores}')\n"
   ]
  },
  {
   "cell_type": "code",
   "execution_count": 25,
   "id": "44bc227f-dda5-4ece-99f0-b56fce5416b7",
   "metadata": {},
   "outputs": [],
   "source": [
    "grouped = new_frame.groupby(\"GEO_ID\")"
   ]
  },
  {
   "cell_type": "code",
   "execution_count": 26,
   "id": "31a14e1e-a707-47f3-8e8a-c454f2cf1d24",
   "metadata": {},
   "outputs": [
    {
     "name": "stdout",
     "output_type": "stream",
     "text": [
      "Country: W140000WOAD\n",
      "0      52747\n",
      "1      56475\n",
      "2      59722\n",
      "3      62559\n",
      "4      63826\n",
      "       ...  \n",
      "106    52592\n",
      "107    52256\n",
      "108    51919\n",
      "109    51582\n",
      "110    51243\n",
      "Name: POP, Length: 111, dtype: int64\n",
      "\n",
      "[52747. 56475. 59722. 62559. 63826. 63245. 63358. 64053. 64728. 65073.\n",
      " 65099. 65316. 65986. 68782. 73247. 76122. 78294. 80757. 82631. 83904.\n",
      " 84563. 84888. 85164. 85389. 85563. 85690. 85771. 85811. 85813. 85782.\n",
      " 85722. 85645. 85560. 85468.]\n",
      "Country: W140000WOAE\n",
      "111     2369781\n",
      "112     2536143\n",
      "113     2704660\n",
      "114     2876234\n",
      "115     3051363\n",
      "         ...   \n",
      "212    15024060\n",
      "213    15055416\n",
      "214    15085746\n",
      "215    15115076\n",
      "216    15143404\n",
      "Name: POP, Length: 106, dtype: int64\n",
      "\n",
      "[2369781. 2536143. 2704660. 2876234. 3051363. 3230742. 3402348. 3555027.\n",
      " 3693043. 3819555. 3935820. 4458540. 5532409. 7159278. 8032709. 8020877.\n",
      " 8302211. 8606553. 8930981. 9170474. 9308415. 9432801. 9543192. 9638206.\n",
      " 9720156. 9792173. 9856612. 9915803. 9973449.]\n",
      "Country: W140000WOAF\n",
      "217    15555612\n",
      "218    15044289\n",
      "219    13676225\n",
      "220    12582762\n",
      "221    12439282\n",
      "         ...   \n",
      "334    96457724\n",
      "335    96916860\n",
      "336    97360044\n",
      "337    97786765\n",
      "338    98196595\n",
      "Name: POP, Length: 122, dtype: int64\n",
      "\n",
      "[15555612. 15044289. 13676225. 12582762. 12439282. 12768664. 13119943.\n",
      " 13125920. 13056450. 13168732. 13502720. 13568282. 13671918. 15023317.\n",
      " 17003437. 18486041. 19445013. 20110508. 20769357. 21451549. 22205667.\n",
      " 22461349. 22507266. 23599230. 25003784. 25695673. 26332646. 27152418.\n",
      " 27385162. 27703539. 28480801. 29116851. 29752169. 30412510. 31098161.\n",
      " 31809829. 32547550. 33310667. 34097944. 34907481. 35739709. 36594776.\n",
      " 37466414. 38346720. 39232003.]\n"
     ]
    }
   ],
   "source": [
    "counter = 0\n",
    "for country, group in grouped:\n",
    "    print(f\"Country: {country}\")\n",
    "    print(group[\"POP\"])\n",
    "    print()  # Add a blank line for readability\n",
    "    counter += 1\n",
    "    good_form = group.drop([\"GEO_ID\", \"POP\"], axis=1)\n",
    "    good_form = good_form[good_form[\"#YR\"] <= 2023]\n",
    "    y_pred = regs[1].predict(good_form)\n",
    "    print(y_pred)\n",
    "    if counter > 2:\n",
    "        break"
   ]
  },
  {
   "cell_type": "code",
   "execution_count": 27,
   "id": "2b0be12d-8cb2-4eed-934a-ae553206b8a5",
   "metadata": {},
   "outputs": [],
   "source": [
    "import pickle\n",
    "with open(\"regtree\", \"bw\") as f:\n",
    "    pickle.dump(regs[1], f)"
   ]
  },
  {
   "cell_type": "code",
   "execution_count": 30,
   "id": "f0aaaa7a-7ccb-429d-90a7-d49c576d0f7c",
   "metadata": {},
   "outputs": [
    {
     "name": "stdout",
     "output_type": "stream",
     "text": [
      "Score across folds 35868141.3919\n",
      "Fold scores:[89520447.04183811, 8043376.25554934, 10040600.87844035]\n"
     ]
    }
   ],
   "source": [
    "#Here we do the back-prediction\n",
    "grouped = df.groupby('GEO_ID', as_index=False)\n",
    "fixed = grouped.apply(add_next_years)\n",
    "new_frame = fixed.reset_index()\n",
    "new_frame = new_frame.drop([\"level_0\", \"level_1\"], axis=1)\n",
    "no_country_df = new_frame.drop([\"GEO_ID\"], axis=1)\n",
    "valid_df = no_country_df[no_country_df[\"#YR\"] <= 2023]\n",
    "fold = 0\n",
    "preds = []\n",
    "scores = []\n",
    "regs = []\n",
    "for train_idx, val_idx in tss.split(valid_df):\n",
    "    train = valid_df.iloc[train_idx]\n",
    "    test = valid_df.iloc[val_idx]\n",
    "\n",
    "\n",
    "    TARGET = 'goal'\n",
    "\n",
    "    X_train = train.drop([TARGET], axis=1)\n",
    "    y_train = train[TARGET]\n",
    "\n",
    "    X_test = test.drop([TARGET], axis=1)\n",
    "    y_test = test[TARGET]\n",
    "    reg = DecisionTreeRegressor(random_state=0)\n",
    "    reg.fit(X_train, y_train)\n",
    "    regs.append(reg)\n",
    "    y_pred = reg.predict(X_test)\n",
    "    preds.append(y_pred)\n",
    "    score = np.sqrt(mean_squared_error(y_test, y_pred))\n",
    "    scores.append(score)\n",
    "\n",
    "\n",
    "#printing scores for each fold\n",
    "\n",
    "print(f'Score across folds {np.mean(scores):0.4f}')\n",
    "print(f'Fold scores:{scores}')\n"
   ]
  },
  {
   "cell_type": "code",
   "execution_count": 31,
   "id": "27f51538-d85b-4ca9-9caa-3c8c9beafb1f",
   "metadata": {},
   "outputs": [
    {
     "name": "stdout",
     "output_type": "stream",
     "text": [
      "Country: W140000WOAD\n",
      "0      52747\n",
      "1      56475\n",
      "2      59722\n",
      "3      62559\n",
      "4      63826\n",
      "       ...  \n",
      "106    52592\n",
      "107    52256\n",
      "108    51919\n",
      "109    51582\n",
      "110    51243\n",
      "Name: POP, Length: 111, dtype: int64\n",
      "\n",
      "[    0. 52747. 56475. 59722. 62559. 63826. 63245. 63358. 64053. 64728.\n",
      " 65073. 65099. 65316. 65986. 68782. 73247. 76122. 78294. 80757. 82631.\n",
      " 83904. 84563. 84888. 85164. 85389. 85563. 85690. 85771. 85811. 85813.\n",
      " 85782. 85722. 85645. 85560.]\n",
      "Country: W140000WOAE\n",
      "111     2369781\n",
      "112     2536143\n",
      "113     2704660\n",
      "114     2876234\n",
      "115     3051363\n",
      "         ...   \n",
      "212    15024060\n",
      "213    15055416\n",
      "214    15085746\n",
      "215    15115076\n",
      "216    15143404\n",
      "Name: POP, Length: 106, dtype: int64\n",
      "\n",
      "[      0. 2369781. 2536143. 2704660. 2876234. 3051363. 3230742. 3402348.\n",
      " 3555027. 3693043. 3819555. 3935820. 4458540. 5532409. 7159278. 8032709.\n",
      " 8020877. 8302211. 8606553. 8930981. 9170474. 9308415. 9432801. 9543192.\n",
      " 9638206. 9720156. 9792173. 9856612. 9915803.]\n",
      "Country: W140000WOAF\n",
      "217    15555612\n",
      "218    15044289\n",
      "219    13676225\n",
      "220    12582762\n",
      "221    12439282\n",
      "         ...   \n",
      "334    96457724\n",
      "335    96916860\n",
      "336    97360044\n",
      "337    97786765\n",
      "338    98196595\n",
      "Name: POP, Length: 122, dtype: int64\n",
      "\n",
      "[       0. 15555612. 15044289. 13676225. 12582762. 12439282. 12768664.\n",
      " 13119943. 13125920. 13056450. 13168732. 13502720. 13568282. 13671918.\n",
      " 15023317. 17003437. 18486041. 19445013. 20110508. 20769357. 21451549.\n",
      " 22205667. 22461349. 22507266. 23599230. 25003784. 25695673. 26332646.\n",
      " 27152418. 27385162. 27703539. 28480801. 29116851. 29752169. 30412510.\n",
      " 31098161. 31809829. 32547550. 33310667. 34097944. 34907481. 35739709.\n",
      " 36594776. 37466414. 38346720.]\n"
     ]
    }
   ],
   "source": [
    "clean_grouped = new_frame.groupby(\"GEO_ID\")\n",
    "counter = 0\n",
    "for country, group in clean_grouped:\n",
    "    print(f\"Country: {country}\")\n",
    "    print(group[\"POP\"])\n",
    "    print()  # Add a blank line for readability\n",
    "    counter += 1\n",
    "    good_form = group.drop([\"GEO_ID\", \"goal\"], axis=1)\n",
    "    good_form = good_form[good_form[\"#YR\"] <= 2023]\n",
    "    y_pred = regs[1].predict(good_form)\n",
    "    print(y_pred)\n",
    "    if counter > 2:\n",
    "        break"
   ]
  },
  {
   "cell_type": "code",
   "execution_count": null,
   "id": "c299005c-d45f-415b-a395-cc038bdcd111",
   "metadata": {},
   "outputs": [],
   "source": []
  }
 ],
 "metadata": {
  "kernelspec": {
   "display_name": "Python 3 (ipykernel)",
   "language": "python",
   "name": "python3"
  },
  "language_info": {
   "codemirror_mode": {
    "name": "ipython",
    "version": 3
   },
   "file_extension": ".py",
   "mimetype": "text/x-python",
   "name": "python",
   "nbconvert_exporter": "python",
   "pygments_lexer": "ipython3",
   "version": "3.11.7"
  }
 },
 "nbformat": 4,
 "nbformat_minor": 5
}
