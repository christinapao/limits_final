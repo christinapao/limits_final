{
 "cells": [
  {
   "cell_type": "code",
   "execution_count": 38,
   "id": "f9580125-276d-42bb-84e9-2a0442a48a9f",
   "metadata": {},
   "outputs": [],
   "source": [
    "import pandas as pd\n",
    "import numpy as np\n",
    "import sklearn as sk\n",
    "import matplotlib.pyplot as plt"
   ]
  },
  {
   "cell_type": "code",
   "execution_count": 42,
   "id": "35494e03-f1dd-4724-9a53-f4883b5f1afe",
   "metadata": {},
   "outputs": [],
   "source": [
    "df = pd.read_csv('idb5yr.txt', delimiter=\"|\")\n",
    "df = pd.read_csv(\"joined_data.csv\")"
   ]
  },
  {
   "cell_type": "code",
   "execution_count": 44,
   "id": "b4e9b874-4d4c-4c01-a3c6-16fed1dfbe18",
   "metadata": {},
   "outputs": [],
   "source": [
    "df = df.fillna(0)"
   ]
  },
  {
   "cell_type": "code",
   "execution_count": 45,
   "id": "bd00e9b8-de12-43c8-b5db-b779b3553825",
   "metadata": {},
   "outputs": [
    {
     "name": "stdout",
     "output_type": "stream",
     "text": [
      "(13696, 259)\n",
      "(64, 69)\n"
     ]
    }
   ],
   "source": [
    "print(df.shape)\n"
   ]
  },
  {
   "cell_type": "code",
   "execution_count": 47,
   "id": "838f8bf8-cc40-4265-814f-d8af3d27a45a",
   "metadata": {},
   "outputs": [],
   "source": [
    "things_to_add = [\"POP\", \"BIRTH\", \"DEATH\"]\n",
    "\n",
    "def add_previous_years(df):\n",
    "    target_map = df['POP'].to_dict()\n",
    "    df['lag1'] = (df.index - 1).map(target_map)\n",
    "    df['lag2'] = (df.index - 2).map(target_map)\n",
    "    df['lag3'] = (df.index - 3).map(target_map)\n",
    "    df[\"lag1\"].fillna(0, inplace=True)\n",
    "    df[\"lag2\"].fillna(0, inplace=True)\n",
    "    df[\"lag3\"].fillna(0, inplace=True)\n",
    "    return df\n",
    "\n",
    "\n",
    "def add_next_years(df):\n",
    "    target_map = df['POP'].to_dict()\n",
    "    df['lag1'] = (df.index + 1).map(target_map)\n",
    "    df['lag2'] = (df.index + 2).map(target_map)\n",
    "    df['lag3'] = (df.index + 3).map(target_map)\n",
    "    df[\"goal\"] = (df.index - 1).map(target_map)\n",
    "    df[\"lag1\"].fillna(0, inplace=True)\n",
    "    df[\"lag2\"].fillna(0, inplace=True)\n",
    "    df[\"lag3\"].fillna(0, inplace=True)\n",
    "    df[\"goal\"].fillna(0, inplace=True)\n",
    "    return df\n"
   ]
  },
  {
   "cell_type": "code",
   "execution_count": 50,
   "id": "d46cce85-22d3-4aa4-bbe3-f00e4d49f772",
   "metadata": {},
   "outputs": [],
   "source": [
    "grouped = df.groupby('Code', as_index=False)\n",
    "fixed = grouped.apply(add_previous_years)"
   ]
  },
  {
   "cell_type": "code",
   "execution_count": 51,
   "id": "60aeae49-2d32-423a-bfd3-2540dd0ea398",
   "metadata": {},
   "outputs": [],
   "source": [
    "new_frame = fixed.reset_index()\n",
    "new_frame = new_frame.drop([\"level_0\", \"level_1\"], axis=1)"
   ]
  },
  {
   "cell_type": "code",
   "execution_count": 52,
   "id": "1974df45-66dc-4fca-8236-cb3bc30878e3",
   "metadata": {},
   "outputs": [
    {
     "name": "stdout",
     "output_type": "stream",
     "text": [
      "        Country  Year         Code  \\\n",
      "0       Andorra  1960  W140000WOAD   \n",
      "1       Andorra  1961  W140000WOAD   \n",
      "2       Andorra  1962  W140000WOAD   \n",
      "3       Andorra  1963  W140000WOAD   \n",
      "4       Andorra  1964  W140000WOAD   \n",
      "...         ...   ...          ...   \n",
      "13691  Zimbabwe  2019  W140000WOZW   \n",
      "13692  Zimbabwe  2020  W140000WOZW   \n",
      "13693  Zimbabwe  2021  W140000WOZW   \n",
      "13694  Zimbabwe  2022  W140000WOZW   \n",
      "13695  Zimbabwe  2023  W140000WOZW   \n",
      "\n",
      "       EG.ELC.ACCS.ZS_Access to electricity (% of population)  \\\n",
      "0                                               0.000000        \n",
      "1                                               0.000000        \n",
      "2                                               0.000000        \n",
      "3                                               0.000000        \n",
      "4                                               0.000000        \n",
      "...                                                  ...        \n",
      "13691                                           0.463959        \n",
      "13692                                           0.524940        \n",
      "13693                                           0.487061        \n",
      "13694                                           0.000000        \n",
      "13695                                           0.000000        \n",
      "\n",
      "       NY.ADJ.NNTY.KD.ZG_Adjusted net national income (annual % growth)  \\\n",
      "0                                               0.000000                  \n",
      "1                                               0.000000                  \n",
      "2                                               0.000000                  \n",
      "3                                               0.000000                  \n",
      "4                                               0.000000                  \n",
      "...                                                  ...                  \n",
      "13691                                           0.152471                  \n",
      "13692                                           0.151974                  \n",
      "13693                                           0.155886                  \n",
      "13694                                           0.000000                  \n",
      "13695                                           0.000000                  \n",
      "\n",
      "       NY.ADJ.NNTY.KD_Adjusted net national income (constant 2015 US$)  \\\n",
      "0                                               0.000000                 \n",
      "1                                               0.000000                 \n",
      "2                                               0.000000                 \n",
      "3                                               0.000000                 \n",
      "4                                               0.000000                 \n",
      "...                                                  ...                 \n",
      "13691                                           0.022754                 \n",
      "13692                                           0.022654                 \n",
      "13693                                           0.022717                 \n",
      "13694                                           0.000000                 \n",
      "13695                                           0.000000                 \n",
      "\n",
      "       NY.ADJ.NNTY.CD_Adjusted net national income (current US$)  \\\n",
      "0                                               0.000000           \n",
      "1                                               0.000000           \n",
      "2                                               0.000000           \n",
      "3                                               0.000000           \n",
      "4                                               0.000000           \n",
      "...                                                  ...           \n",
      "13691                                           0.000959           \n",
      "13692                                           0.000933           \n",
      "13693                                           0.001206           \n",
      "13694                                           0.000000           \n",
      "13695                                           0.000000           \n",
      "\n",
      "       NY.ADJ.NNTY.PC.KD.ZG_Adjusted net national income per capita (annual % growth)  \\\n",
      "0                                               0.000000                                \n",
      "1                                               0.000000                                \n",
      "2                                               0.000000                                \n",
      "3                                               0.000000                                \n",
      "4                                               0.000000                                \n",
      "...                                                  ...                                \n",
      "13691                                           0.156729                                \n",
      "13692                                           0.156212                                \n",
      "13693                                           0.160204                                \n",
      "13694                                           0.000000                                \n",
      "13695                                           0.000000                                \n",
      "\n",
      "       NY.ADJ.NNTY.PC.KD_Adjusted net national income per capita (constant 2015 US$)  \\\n",
      "0                                               0.000000                               \n",
      "1                                               0.000000                               \n",
      "2                                               0.000000                               \n",
      "3                                               0.000000                               \n",
      "4                                               0.000000                               \n",
      "...                                                  ...                               \n",
      "13691                                           0.037797                               \n",
      "13692                                           0.036013                               \n",
      "13693                                           0.036649                               \n",
      "13694                                           0.000000                               \n",
      "13695                                           0.000000                               \n",
      "\n",
      "       NY.ADJ.NNTY.PC.CD_Adjusted net national income per capita (current US$)  \\\n",
      "0                                               0.000000                         \n",
      "1                                               0.000000                         \n",
      "2                                               0.000000                         \n",
      "3                                               0.000000                         \n",
      "4                                               0.000000                         \n",
      "...                                                  ...                         \n",
      "13691                                           0.016131                         \n",
      "13692                                           0.015442                         \n",
      "13693                                           0.019203                         \n",
      "13694                                           0.000000                         \n",
      "13695                                           0.000000                         \n",
      "\n",
      "       ...    MEDAGE  MEDAGE_M  MEDAGE_F  SEXRATIO     DEPND  DEPND0_14  \\\n",
      "0      ...  0.000000  0.000000  0.000000  0.000000  0.000000   0.000000   \n",
      "1      ...  0.000000  0.000000  0.000000  0.000000  0.000000   0.000000   \n",
      "2      ...  0.000000  0.000000  0.000000  0.000000  0.000000   0.000000   \n",
      "3      ...  0.000000  0.000000  0.000000  0.000000  0.000000   0.000000   \n",
      "4      ...  0.000000  0.000000  0.000000  0.000000  0.000000   0.000000   \n",
      "...    ...       ...       ...       ...       ...       ...        ...   \n",
      "13691  ...  0.165501  0.172986  0.153132  0.043023  0.504745   0.484404   \n",
      "13692  ...  0.167832  0.175355  0.157773  0.043798  0.505608   0.485321   \n",
      "13693  ...  0.172494  0.180095  0.162413  0.044186  0.505608   0.485321   \n",
      "13694  ...  0.177156  0.184834  0.167053  0.044961  0.504745   0.484404   \n",
      "13695  ...  0.179487  0.187204  0.169374  0.045349  0.502157   0.480734   \n",
      "\n",
      "       DEPND65_      lag1      lag2      lag3  \n",
      "0      0.000000  0.000000  0.000000  0.000000  \n",
      "1      0.000000  0.000004  0.000000  0.000000  \n",
      "2      0.000000  0.000004  0.000004  0.000000  \n",
      "3      0.000000  0.000005  0.000004  0.000004  \n",
      "4      0.000000  0.000006  0.000005  0.000004  \n",
      "...         ...       ...       ...       ...  \n",
      "13691  0.089666  0.010673  0.010425  0.010176  \n",
      "13692  0.089666  0.010920  0.010673  0.010425  \n",
      "13693  0.089666  0.011170  0.010920  0.010673  \n",
      "13694  0.091185  0.011418  0.011170  0.010920  \n",
      "13695  0.091185  0.011661  0.011418  0.011170  \n",
      "\n",
      "[13696 rows x 262 columns]\n"
     ]
    }
   ],
   "source": [
    "print(new_frame)"
   ]
  },
  {
   "cell_type": "code",
   "execution_count": 58,
   "id": "809c068a-9b52-4792-b35e-3d726df33740",
   "metadata": {},
   "outputs": [],
   "source": [
    "no_country_df = new_frame.drop([\"Code\", \"Country\"], axis=1)"
   ]
  },
  {
   "cell_type": "code",
   "execution_count": 59,
   "id": "2e589c2d-fd75-4032-8bfe-1a5e21921f1a",
   "metadata": {},
   "outputs": [],
   "source": [
    "valid_df = no_country_df[no_country_df[\"Year\"] <= 2023]"
   ]
  },
  {
   "cell_type": "code",
   "execution_count": 60,
   "id": "3edad65b-bbb9-4ed7-8f1f-a07e826c2a05",
   "metadata": {},
   "outputs": [
    {
     "name": "stdout",
     "output_type": "stream",
     "text": [
      "   Year  EG.ELC.ACCS.ZS_Access to electricity (% of population)  \\\n",
      "0  1960                                                0.0        \n",
      "1  1961                                                0.0        \n",
      "2  1962                                                0.0        \n",
      "3  1963                                                0.0        \n",
      "4  1964                                                0.0        \n",
      "\n",
      "   NY.ADJ.NNTY.KD.ZG_Adjusted net national income (annual % growth)  \\\n",
      "0                                                0.0                  \n",
      "1                                                0.0                  \n",
      "2                                                0.0                  \n",
      "3                                                0.0                  \n",
      "4                                                0.0                  \n",
      "\n",
      "   NY.ADJ.NNTY.KD_Adjusted net national income (constant 2015 US$)  \\\n",
      "0                                                0.0                 \n",
      "1                                                0.0                 \n",
      "2                                                0.0                 \n",
      "3                                                0.0                 \n",
      "4                                                0.0                 \n",
      "\n",
      "   NY.ADJ.NNTY.CD_Adjusted net national income (current US$)  \\\n",
      "0                                                0.0           \n",
      "1                                                0.0           \n",
      "2                                                0.0           \n",
      "3                                                0.0           \n",
      "4                                                0.0           \n",
      "\n",
      "   NY.ADJ.NNTY.PC.KD.ZG_Adjusted net national income per capita (annual % growth)  \\\n",
      "0                                                0.0                                \n",
      "1                                                0.0                                \n",
      "2                                                0.0                                \n",
      "3                                                0.0                                \n",
      "4                                                0.0                                \n",
      "\n",
      "   NY.ADJ.NNTY.PC.KD_Adjusted net national income per capita (constant 2015 US$)  \\\n",
      "0                                                0.0                               \n",
      "1                                                0.0                               \n",
      "2                                                0.0                               \n",
      "3                                                0.0                               \n",
      "4                                                0.0                               \n",
      "\n",
      "   NY.ADJ.NNTY.PC.CD_Adjusted net national income per capita (current US$)  \\\n",
      "0                                                0.0                         \n",
      "1                                                0.0                         \n",
      "2                                                0.0                         \n",
      "3                                                0.0                         \n",
      "4                                                0.0                         \n",
      "\n",
      "   DT.TDS.DPPF.XP.ZS_Debt service (PPG and IMF only, % of exports of goods, services and primary income)  \\\n",
      "0                                                0.0                                                       \n",
      "1                                                0.0                                                       \n",
      "2                                                0.0                                                       \n",
      "3                                                0.0                                                       \n",
      "4                                                0.0                                                       \n",
      "\n",
      "   BX.GSR.TOTL.CD_Exports of goods, services and primary income (BoP, current US$)  \\\n",
      "0                                                0.0                                 \n",
      "1                                                0.0                                 \n",
      "2                                                0.0                                 \n",
      "3                                                0.0                                 \n",
      "4                                                0.0                                 \n",
      "\n",
      "   ...  MEDAGE  MEDAGE_M  MEDAGE_F  SEXRATIO  DEPND  DEPND0_14  DEPND65_  \\\n",
      "0  ...     0.0       0.0       0.0       0.0    0.0        0.0       0.0   \n",
      "1  ...     0.0       0.0       0.0       0.0    0.0        0.0       0.0   \n",
      "2  ...     0.0       0.0       0.0       0.0    0.0        0.0       0.0   \n",
      "3  ...     0.0       0.0       0.0       0.0    0.0        0.0       0.0   \n",
      "4  ...     0.0       0.0       0.0       0.0    0.0        0.0       0.0   \n",
      "\n",
      "       lag1      lag2      lag3  \n",
      "0  0.000000  0.000000  0.000000  \n",
      "1  0.000004  0.000000  0.000000  \n",
      "2  0.000004  0.000004  0.000000  \n",
      "3  0.000005  0.000004  0.000004  \n",
      "4  0.000006  0.000005  0.000004  \n",
      "\n",
      "[5 rows x 260 columns]\n"
     ]
    }
   ],
   "source": [
    "print(valid_df.head())"
   ]
  },
  {
   "cell_type": "code",
   "execution_count": 61,
   "id": "bf7f3eac-1f68-4d47-bdfd-066374c4a433",
   "metadata": {},
   "outputs": [],
   "source": [
    "from sklearn.model_selection import TimeSeriesSplit\n",
    "tss = TimeSeriesSplit(n_splits=3)\n",
    "from sklearn.tree import DecisionTreeRegressor\n",
    "from sklearn.metrics import mean_squared_error"
   ]
  },
  {
   "cell_type": "code",
   "execution_count": 62,
   "id": "e20502c8-71bf-4dfc-858b-d39bcf527f0b",
   "metadata": {},
   "outputs": [
    {
     "name": "stdout",
     "output_type": "stream",
     "text": [
      "Score across folds 0.0372\n",
      "Fold scores:[0.07624719347786957, 0.01611443840284921, 0.019093786920788447]\n"
     ]
    }
   ],
   "source": [
    "fold = 0\n",
    "preds = []\n",
    "scores = []\n",
    "regs = []\n",
    "for train_idx, val_idx in tss.split(valid_df):\n",
    "    train = valid_df.iloc[train_idx]\n",
    "    test = valid_df.iloc[val_idx]\n",
    "\n",
    "\n",
    "    TARGET = 'POP'\n",
    "\n",
    "    X_train = train.drop([TARGET], axis=1)\n",
    "    y_train = train[TARGET]\n",
    "\n",
    "    X_test = test.drop([TARGET], axis=1)\n",
    "    y_test = test[TARGET]\n",
    "    reg = DecisionTreeRegressor(random_state=0)\n",
    "    reg.fit(X_train, y_train)\n",
    "    regs.append(reg)\n",
    "    y_pred = reg.predict(X_test)\n",
    "    preds.append(y_pred)\n",
    "    score = np.sqrt(mean_squared_error(y_test, y_pred))\n",
    "    scores.append(score)\n",
    "\n",
    "\n",
    "#printing scores for each fold\n",
    "\n",
    "print(f'Score across folds {np.mean(scores):0.4f}')\n",
    "print(f'Fold scores:{scores}')\n"
   ]
  },
  {
   "cell_type": "code",
   "execution_count": 64,
   "id": "44bc227f-dda5-4ece-99f0-b56fce5416b7",
   "metadata": {},
   "outputs": [],
   "source": [
    "grouped = new_frame.groupby(\"Code\")"
   ]
  },
  {
   "cell_type": "code",
   "execution_count": 26,
   "id": "31a14e1e-a707-47f3-8e8a-c454f2cf1d24",
   "metadata": {},
   "outputs": [
    {
     "name": "stdout",
     "output_type": "stream",
     "text": [
      "Country: W140000WOAD\n",
      "0      52747\n",
      "1      56475\n",
      "2      59722\n",
      "3      62559\n",
      "4      63826\n",
      "       ...  \n",
      "106    52592\n",
      "107    52256\n",
      "108    51919\n",
      "109    51582\n",
      "110    51243\n",
      "Name: POP, Length: 111, dtype: int64\n",
      "\n",
      "[52747. 56475. 59722. 62559. 63826. 63245. 63358. 64053. 64728. 65073.\n",
      " 65099. 65316. 65986. 68782. 73247. 76122. 78294. 80757. 82631. 83904.\n",
      " 84563. 84888. 85164. 85389. 85563. 85690. 85771. 85811. 85813. 85782.\n",
      " 85722. 85645. 85560. 85468.]\n",
      "Country: W140000WOAE\n",
      "111     2369781\n",
      "112     2536143\n",
      "113     2704660\n",
      "114     2876234\n",
      "115     3051363\n",
      "         ...   \n",
      "212    15024060\n",
      "213    15055416\n",
      "214    15085746\n",
      "215    15115076\n",
      "216    15143404\n",
      "Name: POP, Length: 106, dtype: int64\n",
      "\n",
      "[2369781. 2536143. 2704660. 2876234. 3051363. 3230742. 3402348. 3555027.\n",
      " 3693043. 3819555. 3935820. 4458540. 5532409. 7159278. 8032709. 8020877.\n",
      " 8302211. 8606553. 8930981. 9170474. 9308415. 9432801. 9543192. 9638206.\n",
      " 9720156. 9792173. 9856612. 9915803. 9973449.]\n",
      "Country: W140000WOAF\n",
      "217    15555612\n",
      "218    15044289\n",
      "219    13676225\n",
      "220    12582762\n",
      "221    12439282\n",
      "         ...   \n",
      "334    96457724\n",
      "335    96916860\n",
      "336    97360044\n",
      "337    97786765\n",
      "338    98196595\n",
      "Name: POP, Length: 122, dtype: int64\n",
      "\n",
      "[15555612. 15044289. 13676225. 12582762. 12439282. 12768664. 13119943.\n",
      " 13125920. 13056450. 13168732. 13502720. 13568282. 13671918. 15023317.\n",
      " 17003437. 18486041. 19445013. 20110508. 20769357. 21451549. 22205667.\n",
      " 22461349. 22507266. 23599230. 25003784. 25695673. 26332646. 27152418.\n",
      " 27385162. 27703539. 28480801. 29116851. 29752169. 30412510. 31098161.\n",
      " 31809829. 32547550. 33310667. 34097944. 34907481. 35739709. 36594776.\n",
      " 37466414. 38346720. 39232003.]\n"
     ]
    }
   ],
   "source": [
    "counter = 0\n",
    "for country, group in grouped:\n",
    "    print(f\"Country: {country}\")\n",
    "    print(group[\"POP\"])10\n",
    "    print()  # Add a blank line for readability\n",
    "    counter += 1\n",
    "    good_form = group.drop([\"GEO_ID\", \"POP\"], axis=1)\n",
    "    good_form = good_form[good_form[\"#YR\"] <= 2023]\n",
    "    y_pred = regs[1].predict(good_form)\n",
    "    print(y_pred)\n",
    "    if counter > 2:\n",
    "        break"
   ]
  },
  {
   "cell_type": "code",
   "execution_count": 27,
   "id": "2b0be12d-8cb2-4eed-934a-ae553206b8a5",
   "metadata": {},
   "outputs": [],
   "source": [
    "import pickle\n",
    "with open(\"regtree\", \"bw\") as f:\n",
    "    pickle.dump(regs[1], f)"
   ]
  },
  {
   "cell_type": "code",
   "execution_count": 136,
   "id": "f0aaaa7a-7ccb-429d-90a7-d49c576d0f7c",
   "metadata": {},
   "outputs": [
    {
     "name": "stdout",
     "output_type": "stream",
     "text": [
      "Score across models 0.0107\n",
      "Model scores:[0.0033539503820195975, 0.003308069538783886, 0.025336893593866063]\n"
     ]
    }
   ],
   "source": [
    "from sklearn.model_selection import train_test_split\n",
    "from sklearn.ensemble import RandomForestRegressor, GradientBoostingRegressor\n",
    "countries = [\"Viet Nam\", \"Russian Federation\", \"Rwanda\", \"Cambodia\"]\n",
    "#Here we do the back-prediction\n",
    "grouped = df.groupby('Code', as_index=False)\n",
    "fixed = grouped.apply(add_next_years)\n",
    "new_frame = fixed.reset_index()\n",
    "new_frame = new_frame.drop([\"level_0\", \"level_1\"], axis=1)\n",
    "no_country_df = new_frame.drop([\"Code\", \"Country\"], axis=1)\n",
    "valid_df = no_country_df[no_country_df[\"Year\"] <= 2023]\n",
    "fold = 0\n",
    "preds = []\n",
    "scores = []\n",
    "train, test = train_test_split(valid_df, test_size=0.2)\n",
    "\n",
    "\n",
    "TARGET = 'goal'\n",
    "X_train = train.drop([TARGET], axis=1)\n",
    "y_train = train[TARGET]\n",
    "\n",
    "X_test = test.drop([TARGET], axis=1)\n",
    "y_test = test[TARGET]\n",
    "models = [DecisionTreeRegressor(random_state=0), RandomForestRegressor(n_estimators = 10), GradientBoostingRegressor(n_estimators = 10)]\n",
    "finished_models = []\n",
    "for reg in models:\n",
    "    reg.fit(X_train, y_train)\n",
    "    y_pred = reg.predict(X_test)\n",
    "    preds.append(y_pred)\n",
    "    score = np.sqrt(mean_squared_error(y_test, y_pred))\n",
    "    scores.append(score)\n",
    "    finished_models.append(reg)\n",
    "\n",
    "\n",
    "#printing scores for each fold\n",
    "\n",
    "print(f'Score across models {np.mean(scores):0.4f}')\n",
    "print(f'Model scores:{scores}')\n"
   ]
  },
  {
   "cell_type": "code",
   "execution_count": 71,
   "id": "27f51538-d85b-4ca9-9caa-3c8c9beafb1f",
   "metadata": {},
   "outputs": [
    {
     "name": "stdout",
     "output_type": "stream",
     "text": [
      "Country: W140000WOAD\n",
      "0     0.000004\n",
      "1     0.000004\n",
      "2     0.000005\n",
      "3     0.000006\n",
      "4     0.000007\n",
      "        ...   \n",
      "59    0.000059\n",
      "60    0.000059\n",
      "61    0.000059\n",
      "62    0.000059\n",
      "63    0.000059\n",
      "Name: POP, Length: 64, dtype: float64\n",
      "\n"
     ]
    },
    {
     "ename": "KeyError",
     "evalue": "\"['GEO_ID'] not found in axis\"",
     "output_type": "error",
     "traceback": [
      "\u001b[0;31m---------------------------------------------------------------------------\u001b[0m",
      "\u001b[0;31mKeyError\u001b[0m                                  Traceback (most recent call last)",
      "Cell \u001b[0;32mIn[71], line 8\u001b[0m\n\u001b[1;32m      6\u001b[0m \u001b[38;5;28mprint\u001b[39m()  \u001b[38;5;66;03m# Add a blank line for readability\u001b[39;00m\n\u001b[1;32m      7\u001b[0m counter \u001b[38;5;241m+\u001b[39m\u001b[38;5;241m=\u001b[39m \u001b[38;5;241m1\u001b[39m\n\u001b[0;32m----> 8\u001b[0m good_form \u001b[38;5;241m=\u001b[39m group\u001b[38;5;241m.\u001b[39mdrop([\u001b[38;5;124m\"\u001b[39m\u001b[38;5;124mGEO_ID\u001b[39m\u001b[38;5;124m\"\u001b[39m, \u001b[38;5;124m\"\u001b[39m\u001b[38;5;124mgoal\u001b[39m\u001b[38;5;124m\"\u001b[39m], axis\u001b[38;5;241m=\u001b[39m\u001b[38;5;241m1\u001b[39m)\n\u001b[1;32m      9\u001b[0m good_form \u001b[38;5;241m=\u001b[39m good_form[good_form[\u001b[38;5;124m\"\u001b[39m\u001b[38;5;124m#YR\u001b[39m\u001b[38;5;124m\"\u001b[39m] \u001b[38;5;241m<\u001b[39m\u001b[38;5;241m=\u001b[39m \u001b[38;5;241m2023\u001b[39m]\n\u001b[1;32m     10\u001b[0m y_pred \u001b[38;5;241m=\u001b[39m regs[\u001b[38;5;241m1\u001b[39m]\u001b[38;5;241m.\u001b[39mpredict(good_form)\n",
      "File \u001b[0;32m/usr/licensed/anaconda3/2024.2/lib/python3.11/site-packages/pandas/core/frame.py:5344\u001b[0m, in \u001b[0;36mDataFrame.drop\u001b[0;34m(self, labels, axis, index, columns, level, inplace, errors)\u001b[0m\n\u001b[1;32m   5196\u001b[0m \u001b[38;5;28;01mdef\u001b[39;00m \u001b[38;5;21mdrop\u001b[39m(\n\u001b[1;32m   5197\u001b[0m     \u001b[38;5;28mself\u001b[39m,\n\u001b[1;32m   5198\u001b[0m     labels: IndexLabel \u001b[38;5;241m|\u001b[39m \u001b[38;5;28;01mNone\u001b[39;00m \u001b[38;5;241m=\u001b[39m \u001b[38;5;28;01mNone\u001b[39;00m,\n\u001b[0;32m   (...)\u001b[0m\n\u001b[1;32m   5205\u001b[0m     errors: IgnoreRaise \u001b[38;5;241m=\u001b[39m \u001b[38;5;124m\"\u001b[39m\u001b[38;5;124mraise\u001b[39m\u001b[38;5;124m\"\u001b[39m,\n\u001b[1;32m   5206\u001b[0m ) \u001b[38;5;241m-\u001b[39m\u001b[38;5;241m>\u001b[39m DataFrame \u001b[38;5;241m|\u001b[39m \u001b[38;5;28;01mNone\u001b[39;00m:\n\u001b[1;32m   5207\u001b[0m \u001b[38;5;250m    \u001b[39m\u001b[38;5;124;03m\"\"\"\u001b[39;00m\n\u001b[1;32m   5208\u001b[0m \u001b[38;5;124;03m    Drop specified labels from rows or columns.\u001b[39;00m\n\u001b[1;32m   5209\u001b[0m \n\u001b[0;32m   (...)\u001b[0m\n\u001b[1;32m   5342\u001b[0m \u001b[38;5;124;03m            weight  1.0     0.8\u001b[39;00m\n\u001b[1;32m   5343\u001b[0m \u001b[38;5;124;03m    \"\"\"\u001b[39;00m\n\u001b[0;32m-> 5344\u001b[0m     \u001b[38;5;28;01mreturn\u001b[39;00m \u001b[38;5;28msuper\u001b[39m()\u001b[38;5;241m.\u001b[39mdrop(\n\u001b[1;32m   5345\u001b[0m         labels\u001b[38;5;241m=\u001b[39mlabels,\n\u001b[1;32m   5346\u001b[0m         axis\u001b[38;5;241m=\u001b[39maxis,\n\u001b[1;32m   5347\u001b[0m         index\u001b[38;5;241m=\u001b[39mindex,\n\u001b[1;32m   5348\u001b[0m         columns\u001b[38;5;241m=\u001b[39mcolumns,\n\u001b[1;32m   5349\u001b[0m         level\u001b[38;5;241m=\u001b[39mlevel,\n\u001b[1;32m   5350\u001b[0m         inplace\u001b[38;5;241m=\u001b[39minplace,\n\u001b[1;32m   5351\u001b[0m         errors\u001b[38;5;241m=\u001b[39merrors,\n\u001b[1;32m   5352\u001b[0m     )\n",
      "File \u001b[0;32m/usr/licensed/anaconda3/2024.2/lib/python3.11/site-packages/pandas/core/generic.py:4711\u001b[0m, in \u001b[0;36mNDFrame.drop\u001b[0;34m(self, labels, axis, index, columns, level, inplace, errors)\u001b[0m\n\u001b[1;32m   4709\u001b[0m \u001b[38;5;28;01mfor\u001b[39;00m axis, labels \u001b[38;5;129;01min\u001b[39;00m axes\u001b[38;5;241m.\u001b[39mitems():\n\u001b[1;32m   4710\u001b[0m     \u001b[38;5;28;01mif\u001b[39;00m labels \u001b[38;5;129;01mis\u001b[39;00m \u001b[38;5;129;01mnot\u001b[39;00m \u001b[38;5;28;01mNone\u001b[39;00m:\n\u001b[0;32m-> 4711\u001b[0m         obj \u001b[38;5;241m=\u001b[39m obj\u001b[38;5;241m.\u001b[39m_drop_axis(labels, axis, level\u001b[38;5;241m=\u001b[39mlevel, errors\u001b[38;5;241m=\u001b[39merrors)\n\u001b[1;32m   4713\u001b[0m \u001b[38;5;28;01mif\u001b[39;00m inplace:\n\u001b[1;32m   4714\u001b[0m     \u001b[38;5;28mself\u001b[39m\u001b[38;5;241m.\u001b[39m_update_inplace(obj)\n",
      "File \u001b[0;32m/usr/licensed/anaconda3/2024.2/lib/python3.11/site-packages/pandas/core/generic.py:4753\u001b[0m, in \u001b[0;36mNDFrame._drop_axis\u001b[0;34m(self, labels, axis, level, errors, only_slice)\u001b[0m\n\u001b[1;32m   4751\u001b[0m         new_axis \u001b[38;5;241m=\u001b[39m axis\u001b[38;5;241m.\u001b[39mdrop(labels, level\u001b[38;5;241m=\u001b[39mlevel, errors\u001b[38;5;241m=\u001b[39merrors)\n\u001b[1;32m   4752\u001b[0m     \u001b[38;5;28;01melse\u001b[39;00m:\n\u001b[0;32m-> 4753\u001b[0m         new_axis \u001b[38;5;241m=\u001b[39m axis\u001b[38;5;241m.\u001b[39mdrop(labels, errors\u001b[38;5;241m=\u001b[39merrors)\n\u001b[1;32m   4754\u001b[0m     indexer \u001b[38;5;241m=\u001b[39m axis\u001b[38;5;241m.\u001b[39mget_indexer(new_axis)\n\u001b[1;32m   4756\u001b[0m \u001b[38;5;66;03m# Case for non-unique axis\u001b[39;00m\n\u001b[1;32m   4757\u001b[0m \u001b[38;5;28;01melse\u001b[39;00m:\n",
      "File \u001b[0;32m/usr/licensed/anaconda3/2024.2/lib/python3.11/site-packages/pandas/core/indexes/base.py:7000\u001b[0m, in \u001b[0;36mIndex.drop\u001b[0;34m(self, labels, errors)\u001b[0m\n\u001b[1;32m   6998\u001b[0m \u001b[38;5;28;01mif\u001b[39;00m mask\u001b[38;5;241m.\u001b[39many():\n\u001b[1;32m   6999\u001b[0m     \u001b[38;5;28;01mif\u001b[39;00m errors \u001b[38;5;241m!=\u001b[39m \u001b[38;5;124m\"\u001b[39m\u001b[38;5;124mignore\u001b[39m\u001b[38;5;124m\"\u001b[39m:\n\u001b[0;32m-> 7000\u001b[0m         \u001b[38;5;28;01mraise\u001b[39;00m \u001b[38;5;167;01mKeyError\u001b[39;00m(\u001b[38;5;124mf\u001b[39m\u001b[38;5;124m\"\u001b[39m\u001b[38;5;132;01m{\u001b[39;00mlabels[mask]\u001b[38;5;241m.\u001b[39mtolist()\u001b[38;5;132;01m}\u001b[39;00m\u001b[38;5;124m not found in axis\u001b[39m\u001b[38;5;124m\"\u001b[39m)\n\u001b[1;32m   7001\u001b[0m     indexer \u001b[38;5;241m=\u001b[39m indexer[\u001b[38;5;241m~\u001b[39mmask]\n\u001b[1;32m   7002\u001b[0m \u001b[38;5;28;01mreturn\u001b[39;00m \u001b[38;5;28mself\u001b[39m\u001b[38;5;241m.\u001b[39mdelete(indexer)\n",
      "\u001b[0;31mKeyError\u001b[0m: \"['GEO_ID'] not found in axis\""
     ]
    }
   ],
   "source": [
    "clean_grouped = new_frame.groupby(\"Code\")\n",
    "counter = 0\n",
    "for country, group in clean_grouped:\n",
    "    print(f\"Country: {country}\")\n",
    "    print(group[\"POP\"])\n",
    "    print()  # Add a blank line for readability\n",
    "    counter += 1\n",
    "    good_form = group.drop([\"GEO_ID\", \"goal\"], axis=1)\n",
    "    good_form = good_form[good_form[\"#YR\"] <= 2023]\n",
    "    y_pred = regs[1].predict(good_form)\n",
    "    print(y_pred)\n",
    "    if counter > 2:\n",
    "        break"
   ]
  },
  {
   "cell_type": "code",
   "execution_count": 141,
   "id": "c299005c-d45f-415b-a395-cc038bdcd111",
   "metadata": {},
   "outputs": [],
   "source": [
    "max = 1413142846\n",
    "min = 2705\n",
    "def get_pop(df):\n",
    "    pop_list = df['POP'].tolist()\n",
    "    pop_list = list(map(lambda x : unnormalize(x, max, min), pop_list))\n",
    "    return pop_list\n",
    "\n",
    "def unnormalize(value, max, min):\n",
    "    return (max - min) * value + min\n",
    "country_record = {}\n",
    "country_pop = {}\n",
    "for country in countries:\n",
    "    country_frame = new_frame[new_frame[\"Country\"] == country]\n",
    "    good_form = country_frame.drop([\"Country\", \"Code\", \"goal\"], axis=1).iloc[::-1]\n",
    "    \n",
    "    goal_record = [[], [], []]\n",
    "    for index, row in good_form.iterrows():\n",
    "        if row[\"Year\"] > 2020: continue\n",
    "        #row = row.drop(\"goal\")\n",
    "        row_df = pd.DataFrame([row], columns = good_form.columns)\n",
    "        for i in range(len(finished_models)):\n",
    "            if goal_record[i]:\n",
    "                row[\"lag1\"] = goal_record[i][-1]\n",
    "            goal_pred = finished_models[i].predict(row_df)\n",
    "            goal_record[i].append(goal_pred)\n",
    "    for i in range(len(goal_record)):\n",
    "        goal_record[i] = list(map(lambda x : unnormalize(x, max, min), goal_record[i]))\n",
    "    country_record[country] = goal_record\n",
    "    country_pop[country] = get_pop(country_frame)\n"
   ]
  },
  {
   "cell_type": "code",
   "execution_count": 143,
   "id": "e72bf0f4-8c47-4c28-b395-cc139d28da71",
   "metadata": {},
   "outputs": [
    {
     "name": "stdout",
     "output_type": "stream",
     "text": [
      "{'Viet Nam': [[array([1.00669666e+08]), array([99578719.99999994]), array([97355564.99999987]), array([97355564.99999987]), array([96197850.99999996]), array([95031567.99999993]), array([93859917.99999994]), array([91568195.99999993]), array([91568195.99999993]), array([90458606.99999993]), array([86859532.99999991]), array([88230615.99999994]), array([86014940.99999988]), array([86014940.99999988]), array([84920496.99999987]), array([83800249.99999987]), array([82699693.]), array([81617016.99999997]), array([80525731.99999994]), array([79451865.99999991]), array([78374933.99999994]), array([77303764.99999988]), array([76214806.99999991]), array([75076985.99999996]), array([74081583.99999997]), array([72803614.99999994]), array([69811258.99999996]), array([69811258.99999996]), array([68657379.9999999]), array([67265920.99999987]), array([65868480.99999992]), array([64211346.99999993]), array([62826490.99999993]), array([60641898.99999989]), array([60641898.99999989]), array([58659970.99999994]), array([57436346.99999989]), array([56142180.99999993]), array([54902676.99999987]), array([53715201.9999999]), array([52775157.99999997]), array([51662727.99999989]), array([50533505.99999996]), array([50235676.99999999]), array([48075206.99999988]), array([46902294.99999996]), array([45736495.99999994]), array([46111261.99999999]), array([43614365.99999987]), array([42576675.99999993]), array([41542067.99999993]), array([40511527.99999993]), array([39280108.99999997]), array([38378467.99999996]), array([37258368.99999991]), array([36099051.99999999]), array([34932463.9999999]), array([33796139.99999991]), array([32701356.99999997]), array([31656281.99999994]), array([2705.])], [array([1.00077467e+08]), array([89434423.29999994]), array([97897920.29999991]), array([97656525.5999999]), array([95847429.39999995]), array([94796701.29999994]), array([94109381.19999996]), array([91336883.59999992]), array([91457237.09999992]), array([90902442.5999999]), array([87508994.99999993]), array([87881806.29999995]), array([86612961.89999992]), array([85796052.19999987]), array([84696447.59999986]), array([83716716.0999999]), array([83121018.39999993]), array([81465808.99999996]), array([80976727.79999997]), array([79344172.79999991]), array([77841137.99999991]), array([77510401.09999989]), array([76216624.49999993]), array([75091209.39999993]), array([73939598.49999991]), array([73074398.49999991]), array([71104962.29999995]), array([70405265.09999995]), array([68704012.9999999]), array([67318508.6999999]), array([65975805.99999993]), array([64345052.89999993]), array([62921858.99999993]), array([61164154.19999994]), array([60248288.89999992]), array([59001853.29999997]), array([57378893.5999999]), array([56153822.49999993]), array([54899586.29999988]), array([53940686.99999991]), array([53098370.99999992]), array([51521981.39999991]), array([50915852.49999994]), array([50463521.39999995]), array([48280043.39999989]), array([47007492.49999994]), array([46167942.79999995]), array([45264262.69999991]), array([43689889.9999999]), array([42692988.49999993]), array([41538884.49999993]), array([40510299.29999992]), array([39439271.09999993]), array([38227209.99999995]), array([37582518.69999991]), array([36240122.99999998]), array([35017681.09999993]), array([34143788.49999993]), array([32703702.09999996]), array([28857536.79999995]), array([3155636.09999999])], [array([77805316.40862812]), array([77805316.40862812]), array([66535002.58437066]), array([66535002.58437066]), array([66535002.58437066]), array([66535002.58437066]), array([66535002.58437066]), array([66535002.58437066]), array([66535002.58437066]), array([66535002.58437066]), array([66535002.58437066]), array([66535002.58437066]), array([66535002.58437066]), array([66535002.58437066]), array([58355646.86643361]), array([58355646.86643361]), array([58355646.86643361]), array([58355646.86643361]), array([58355646.86643361]), array([58355646.86643361]), array([58355646.86643361]), array([58355646.86643361]), array([58355646.86643361]), array([54286860.02242446]), array([54286860.02242446]), array([54286860.02242446]), array([54286860.02242446]), array([48393859.14548917]), array([48393859.14548917]), array([48393859.14548917]), array([48393859.14548917]), array([48393859.14548917]), array([48393859.14548917]), array([48393859.14548917]), array([48393859.14548917]), array([43596357.82023846]), array([43596357.82023846]), array([43596357.82023846]), array([43596357.82023846]), array([43596357.82023846]), array([39981757.99184414]), array([39981757.99184414]), array([37121885.21752822]), array([37121885.21752822]), array([37121885.21752822]), array([37121885.21752822]), array([34595749.63451616]), array([34595749.63451616]), array([34595749.63451616]), array([34595749.63451616]), array([34595749.63451616]), array([34595749.63451616]), array([34595749.63451616]), array([34595749.63451616]), array([34595749.63451616]), array([34595749.63451616]), array([30896758.96412512]), array([30896758.96412512]), array([30896758.96412512]), array([28766252.41137753]), array([28766252.41137753])]], 'Russian Federation': [[array([1.44066488e+08]), array([1.44066488e+08]), array([1.44157561e+08]), array([1.44133052e+08]), array([1.43933363e+08]), array([1.43933363e+08]), array([1.43786233e+08]), array([1.43645489e+08]), array([1.43533961e+08]), array([1.434931e+08]), array([1.43427695e+08]), array([1.43645489e+08]), array([1.4340748e+08]), array([1.44285722e+08]), array([1.44285722e+08]), array([1.44966251e+08]), array([1.45703488e+08]), array([1.46495996e+08]), array([1.47300367e+08]), array([1.4802017e+08]), array([1.48665109e+08]), array([1.49120996e+08]), array([1.49120996e+08]), array([1.49563044e+08]), array([1.49724243e+08]), array([1.49588063e+08]), array([1.49454974e+08]), array([1.49410517e+08]), array([1.49410517e+08]), array([1.44566309e+08]), array([1.44566309e+08]), array([1.46865701e+08]), array([1.45958907e+08]), array([1.4496655e+08]), array([1.4496655e+08]), array([1.42922263e+08]), array([1.41861725e+08]), array([1.4082182e+08]), array([1.39899972e+08]), array([1.3816368e+08]), array([1.3816368e+08]), array([1.3724587e+08]), array([1.35269263e+08]), array([1.35269263e+08]), array([1.33378674e+08]), array([1.33378674e+08]), array([1.32556176e+08]), array([1.30977408e+08]), array([1.30977408e+08]), array([1.30245476e+08]), array([1.29572617e+08]), array([1.28876498e+08]), array([1.28183863e+08]), array([1.27414772e+08]), array([1.2552151e+08]), array([1.2552151e+08]), array([1.24276517e+08]), array([1.2287756e+08]), array([1.21324346e+08]), array([1.19631633e+08]), array([1.1737409e+08])], [array([1.43770791e+08]), array([1.43839805e+08]), array([1.44009575e+08]), array([1.44086394e+08]), array([1.43875757e+08]), array([1.43914449e+08]), array([1.43775719e+08]), array([1.43650475e+08]), array([1.43664417e+08]), array([1.43648587e+08]), array([1.43588567e+08]), array([1.43647408e+08]), array([1.43697619e+08]), array([1.4405271e+08]), array([1.44175974e+08]), array([1.44810374e+08]), array([1.45400164e+08]), array([1.46105269e+08]), array([1.46900554e+08]), array([1.47565074e+08]), array([1.48186122e+08]), array([1.48596508e+08]), array([1.49479378e+08]), array([1.49351203e+08]), array([1.49553836e+08]), array([1.4958587e+08]), array([1.49499627e+08]), array([1.49443552e+08]), array([1.49268356e+08]), array([1.49270381e+08]), array([1.48294341e+08]), array([1.47807517e+08]), array([1.45681459e+08]), array([1.4488229e+08]), array([1.4455241e+08]), array([1.42933982e+08]), array([1.42095294e+08]), array([1.41573278e+08]), array([1.39529086e+08]), array([1.3757923e+08]), array([1.3757923e+08]), array([1.36936763e+08]), array([1.34619836e+08]), array([1.34619836e+08]), array([1.33510042e+08]), array([1.33320983e+08]), array([1.3187793e+08]), array([1.30425942e+08]), array([1.30544156e+08]), array([1.30043618e+08]), array([1.29217609e+08]), array([1.28623413e+08]), array([1.27991699e+08]), array([1.27684063e+08]), array([1.2699308e+08]), array([1.25845041e+08]), array([1.25476093e+08]), array([1.22488294e+08]), array([1.21147454e+08]), array([1.19399357e+08]), array([1.16816797e+08])], [array([1.00062485e+08]), array([1.00062485e+08]), array([1.00062485e+08]), array([1.00062485e+08]), array([1.00062485e+08]), array([1.00062485e+08]), array([1.00062485e+08]), array([1.00062485e+08]), array([1.00062485e+08]), array([1.00062485e+08]), array([1.00062485e+08]), array([1.00062485e+08]), array([1.00062485e+08]), array([1.00062485e+08]), array([1.00062485e+08]), array([1.00062485e+08]), array([1.07833663e+08]), array([1.07833663e+08]), array([1.07833663e+08]), array([1.07833663e+08]), array([1.07833663e+08]), array([1.07833663e+08]), array([1.07833663e+08]), array([1.07833663e+08]), array([1.07833663e+08]), array([1.07833663e+08]), array([1.07833663e+08]), array([1.07833663e+08]), array([1.07833663e+08]), array([1.07833663e+08]), array([1.07833663e+08]), array([1.07833663e+08]), array([1.07833663e+08]), array([1.07833663e+08]), array([1.07833663e+08]), array([1.00062485e+08]), array([1.00062485e+08]), array([1.00062485e+08]), array([1.00062485e+08]), array([1.00062485e+08]), array([1.00062485e+08]), array([1.00062485e+08]), array([94030762.88107729]), array([94030762.88107729]), array([94030762.88107729]), array([94030762.88107729]), array([94030762.88107729]), array([88544721.21897618]), array([88544721.21897618]), array([88544721.21897618]), array([88544721.21897618]), array([88544721.21897618]), array([88544721.21897618]), array([88544721.21897618]), array([88544721.21897618]), array([88544721.21897618]), array([88544721.21897618]), array([88544721.21897618]), array([88544721.21897618]), array([88544721.21897618]), array([88544721.21897618])]], 'Rwanda': [[array([12458370.99999999]), array([12184781.9999999]), array([11826991.99999999]), array([11603004.99999988]), array([11375692.99999997]), array([11148365.9999999]), array([10831400.99999988]), array([10505339.99999998]), array([10194331.]), array([9923422.99999988]), array([9705658.99999999]), array([9501782.99999999]), array([9266881.99999986]), array([9035458.99999993]), array([8934238.99999996]), array([8786886.99999989]), array([8477176.99999987]), array([8329231.99999987]), array([8163132.99999998]), array([8047102.99999995]), array([8047102.99999995]), array([7896685.99999996]), array([7563088.99999988]), array([6479293.99999986]), array([5384522.99999993]), array([5143490.99999993]), array([7823958.99999995]), array([7496289.9999999]), array([7558417.99999993]), array([7277250.99999991]), array([6934159.99999999]), array([6692713.99999988]), array([6549568.99999989]), array([6252711.99999998]), array([6025283.99999999]), array([5856598.9999999]), array([5674438.99999989]), array([5486567.99999999]), array([5374771.99999992]), array([4973445.99999999]), array([4990012.99999986]), array([4818991.99999987]), array([4657071.99999991]), array([4502351.99999991]), array([4356862.99999988]), array([4240517.99999994]), array([4169341.99999992]), array([3992120.99999988]), array([3880224.99999989]), array([3769171.]), array([3656795.99999999]), array([3547931.99999991]), array([3451078.99999998]), array([3358201.99999998]), array([3264639.99999998]), array([3183992.99999998]), array([3129003.99999988]), array([3051241.99999998]), array([3045907.99999991]), array([3031803.99999987]), array([2705.])], [array([12475570.89999998]), array([12219885.59999989]), array([11874176.69999993]), array([11578295.6999999]), array([11356182.29999996]), array([11173648.89999992]), array([10819953.0999999]), array([10531530.09999997]), array([10314233.49999994]), array([9894643.6999999]), array([9672403.69999994]), array([9420343.79999996]), array([9246840.09999987]), array([9019799.39999993]), array([8840006.49999993]), array([8679020.39999994]), array([8448519.39999989]), array([8300162.39999988]), array([8163132.99999998]), array([8011849.69999995]), array([7894293.99999994]), array([7848204.19999994]), array([7618030.8999999]), array([7293933.49999993]), array([5906062.29999992]), array([5260690.19999994]), array([7499539.89999995]), array([7496289.99999989]), array([7383636.09999991]), array([7157245.59999994]), array([6946060.99999996]), array([6713889.19999989]), array([6527673.09999993]), array([6282439.39999994]), array([6043150.59999997]), array([5852856.29999991]), array([5658427.29999992]), array([5511196.59999998]), array([5372612.99999992]), array([5022807.89999993]), array([5007543.79999995]), array([4822072.9999999]), array([4663068.99999991]), array([4504685.89999991]), array([4364732.9999999]), array([4246109.99999994]), array([4126278.59999992]), array([4015997.59999993]), array([3881321.59999989]), array([3794609.31999995]), array([3680541.89999995]), array([3550797.39999992]), array([3452965.69999997]), array([3363984.09999996]), array([3265156.79999998]), array([3162998.69999996]), array([3113417.89999991]), array([3061311.79999996]), array([3024885.49999991]), array([3023650.19999989]), array([2705.])], [array([14155338.02585789]), array([14155338.02585789]), array([14155338.02585789]), array([14155338.02585789]), array([14155338.02585789]), array([14155338.02585789]), array([14155338.02585789]), array([14155338.02585789]), array([14155338.02585789]), array([14155338.02585789]), array([12765087.96734308]), array([12765087.96734308]), array([12765087.96734308]), array([12765087.96734308]), array([12765087.96734308]), array([12765087.96734308]), array([12765087.96734308]), array([12765087.96734308]), array([12765087.96734308]), array([12765087.96734308]), array([12765087.96734308]), array([12765087.96734308]), array([12765087.96734308]), array([12765087.96734308]), array([11701020.71361703]), array([10821323.13327952]), array([11701020.71361703]), array([12765087.96734308]), array([11701020.71361703]), array([11701020.71361703]), array([11701020.71361703]), array([11701020.71361703]), array([11701020.71361703]), array([11701020.71361703]), array([11701020.71361703]), array([10821323.13327952]), array([10821323.13327952]), array([10821323.13327952]), array([10821323.13327952]), array([10821323.13327952]), array([10821323.13327952]), array([10821323.13327952]), array([10821323.13327952]), array([10821323.13327952]), array([10821323.13327952]), array([10821323.13327952]), array([10821323.13327952]), array([10821323.13327952]), array([10821323.13327952]), array([10821323.13327952]), array([10821323.13327952]), array([10821323.13327952]), array([10821323.13327952]), array([10821323.13327952]), array([10821323.13327952]), array([10821323.13327952]), array([10821323.13327952]), array([10821323.13327952]), array([10821323.13327952]), array([10821323.13327952]), array([10821323.13327952])]], 'Cambodia': [[array([16129715.99999986]), array([16052381.99999995]), array([15660220.99999994]), array([15433590.99999989]), array([15168982.99999988]), array([14966007.99999988]), array([14807530.99999995]), array([14648509.99999996]), array([14488674.99999988]), array([14326900.99999986]), array([14153378.99999987]), array([13969007.99999989]), array([13789072.99999999]), array([13617706.99999993]), array([13430638.99999996]), array([13228593.99999998]), array([13031668.99999994]), array([13031668.99999994]), array([12649521.99999996]), array([12510511.99999987]), array([12263563.99999986]), array([11918502.99999998]), array([11826620.9999999]), array([11587124.99999987]), array([11334224.99999996]), array([11071798.9999999]), array([10744166.99999987]), array([10234811.99999996]), array([9795865.99999987]), array([9453577.99999988]), array([9121228.99999987]), array([8883842.99999989]), array([8547736.99999994]), array([8175777.99999995]), array([7913959.99999999]), array([7759363.99999993]), array([7596732.99999995]), array([7360538.99999986]), array([7139965.99999991]), array([6946803.99999996]), array([6859407.99999999]), array([6824674.99999995]), array([7050658.99999988]), array([7287407.99999989]), array([7559048.9999999]), array([7524861.99999991]), array([7593610.99999998]), array([7508548.99999991]), array([7415525.99999997]), array([7394264.99999999]), array([7327871.99999998]), array([7142388.99999987]), array([6959720.99999996]), array([6779481.99999988]), array([6601608.99999999]), array([6426173.99999994]), array([6253080.99999993]), array([6083618.99999992]), array([5919486.99999999]), array([5761222.9999999]), array([2705.])], [array([16129715.99999986]), array([16089720.09999993]), array([15702558.09999994]), array([15186568.8999999]), array([15168542.39999989]), array([14880889.99999991]), array([14722267.19999995]), array([14611275.49999993]), array([14425023.2999999]), array([14308182.69999989]), array([14123409.39999988]), array([13972230.59999991]), array([13707233.99999994]), array([13627865.69999995]), array([13325624.79999996]), array([13182339.69999997]), array([13029227.19999995]), array([12966049.49999994]), array([12598147.99999996]), array([12559466.99999996]), array([12266698.69999988]), array([11935891.69999992]), array([11799170.29999991]), array([11653608.4999999]), array([11346844.39999996]), array([11111251.79999991]), array([10818784.59999994]), array([10330318.89999994]), array([9885311.99999989]), array([9517414.49999993]), array([9156717.49999989]), array([8921083.09999993]), array([8608648.89999991]), array([8211905.19999993]), array([7948285.69999993]), array([7757339.79999993]), array([7619333.09999993]), array([7366915.79999987]), array([7132687.59999991]), array([6964148.19999994]), array([6803495.09999993]), array([6798467.59999993]), array([6955572.09999992]), array([7197145.89999991]), array([7364744.5999999]), array([7506437.69999991]), array([7561148.39999997]), array([7515865.99999991]), array([7416330.69999996]), array([7368114.49999997]), array([7284783.29999995]), array([7158075.19999989]), array([7008503.89999994]), array([6773801.9999999]), array([6613218.49999996]), array([6434486.19999993]), array([6271094.29999993]), array([6089900.49999993]), array([5938725.39999995]), array([5764467.89999991]), array([562126.99999999])], [array([16144905.92133393]), array([16144905.92133393]), array([16144905.92133393]), array([16144905.92133393]), array([16144905.92133393]), array([16144905.92133393]), array([16144905.92133393]), array([16144905.92133393]), array([16144905.92133393]), array([16144905.92133393]), array([16144905.92133393]), array([16144905.92133393]), array([16144905.92133393]), array([16144905.92133393]), array([16144905.92133393]), array([14155338.02585789]), array([14155338.02585789]), array([14155338.02585789]), array([14155338.02585789]), array([14155338.02585789]), array([14155338.02585789]), array([14155338.02585789]), array([14155338.02585789]), array([14155338.02585789]), array([14155338.02585789]), array([14155338.02585789]), array([14155338.02585789]), array([14155338.02585789]), array([14155338.02585789]), array([12765087.96734308]), array([12765087.96734308]), array([12765087.96734308]), array([12765087.96734308]), array([12765087.96734308]), array([12765087.96734308]), array([12765087.96734308]), array([12765087.96734308]), array([12765087.96734308]), array([11701020.71361703]), array([11701020.71361703]), array([11701020.71361703]), array([11701020.71361703]), array([11701020.71361703]), array([11701020.71361703]), array([11701020.71361703]), array([12765087.96734308]), array([12765087.96734308]), array([12765087.96734308]), array([11701020.71361703]), array([11701020.71361703]), array([11701020.71361703]), array([11701020.71361703]), array([11701020.71361703]), array([11701020.71361703]), array([11701020.71361703]), array([11701020.71361703]), array([11701020.71361703]), array([11701020.71361703]), array([10821323.13327952]), array([10821323.13327952]), array([10821323.13327952])]]}\n"
     ]
    }
   ],
   "source": [
    "print(country_record)"
   ]
  },
  {
   "cell_type": "code",
   "execution_count": 127,
   "id": "e0e161e8-6ed7-44e3-a6e5-7f1b68e0f396",
   "metadata": {},
   "outputs": [
    {
     "data": {
      "image/png": "[encoded data removed]",
      "text/plain": [
       "<Figure size 640x480 with 1 Axes>"
      ]
     },
     "metadata": {},
     "output_type": "display_data"
    }
   ],
   "source": [
    "# Plot 'pop' column\n",
    "plt.plot(country_pop[countries[0]])\n",
    "plt.plot(country_record[countries[0]])\n",
    "plt.xlabel('Index')\n",
    "plt.ylabel('Population')\n",
    "plt.title('Population Trend')\n",
    "plt.grid(True)\n",
    "plt.show()\n"
   ]
  },
  {
   "cell_type": "code",
   "execution_count": null,
   "id": "0d6e5a7f-64d6-4d76-94d0-1c61fef06ef7",
   "metadata": {},
   "outputs": [],
   "source": []
  }
 ],
 "metadata": {
  "kernelspec": {
   "display_name": "Python 3 (ipykernel)",
   "language": "python",
   "name": "python3"
  },
  "language_info": {
   "codemirror_mode": {
    "name": "ipython",
    "version": 3
   },
   "file_extension": ".py",
   "mimetype": "text/x-python",
   "name": "python",
   "nbconvert_exporter": "python",
   "pygments_lexer": "ipython3",
   "version": "3.11.7"
  }
 },
 "nbformat": 4,
 "nbformat_minor": 5
}
